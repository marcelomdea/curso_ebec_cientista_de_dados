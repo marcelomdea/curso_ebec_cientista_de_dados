{
  "nbformat": 4,
  "nbformat_minor": 0,
  "metadata": {
    "colab": {
      "name": "modulo_2_exercicios.ipynb",
      "provenance": [],
      "collapsed_sections": [],
      "toc_visible": true
    },
    "kernelspec": {
      "name": "python3",
      "display_name": "Python 3"
    }
  },
  "cells": [
    {
      "cell_type": "markdown",
      "metadata": {
        "id": "KJqp9AANOCtf"
      },
      "source": [
        "<img src=\"https://raw.githubusercontent.com/andre-marcos-perez/ebac-course-utils/main/media/logo/newebac_logo_black_half.png\" alt=\"ebac-logo\">\n",
        "\n",
        "---\n",
        "\n",
        "# **Módulo 02** | Python: Estruturas de Dados\n",
        "Caderno de **Exercícios**<br> \n",
        "Professor [André Perez](https://www.linkedin.com/in/andremarcosperez/)\n",
        "\n",
        "---"
      ]
    },
    {
      "cell_type": "markdown",
      "metadata": {
        "id": "d9jDtUbDOE1-"
      },
      "source": [
        "# **Tópicos**\n",
        "\n",
        "<ol type=\"1\">\n",
        "  <li>Listas;</li>\n",
        "  <li>Conjuntos;</li>\n",
        "  <li>Dicionários.</li>\n",
        "</ol>"
      ]
    },
    {
      "cell_type": "markdown",
      "metadata": {
        "id": "SmoHgt-lwkpD"
      },
      "source": [
        "---"
      ]
    },
    {
      "cell_type": "markdown",
      "metadata": {
        "id": "GABI6OW8OfQ2"
      },
      "source": [
        "# **Exercícios**"
      ]
    },
    {
      "cell_type": "markdown",
      "metadata": {
        "id": "muD1vxozykSC"
      },
      "source": [
        "## 1\\. Listas"
      ]
    },
    {
      "cell_type": "markdown",
      "metadata": {
        "id": "ahrFfCuBxJKs"
      },
      "source": [
        "Criei uma lista chamada `filmes` com o nome dos 10 primeiros filmes mais bem avaliados no site no [IMDB](https://www.imdb.com/chart/top/). Imprima o resultado."
      ]
    },
    {
      "cell_type": "code",
      "metadata": {
        "id": "OgL6Hv3bzOHI",
        "colab": {
          "base_uri": "https://localhost:8080/"
        },
        "outputId": "393a3001-e7b2-48ac-f199-3bd1cc395517"
      },
      "source": [
        "filmes = [\n",
        "  'Um Sonho de Liberdade', \n",
        "  'O Poderoso Chefão', \n",
        "  'Batman: O Cavaleiro das Trevas', \n",
        "  'O Poderoso Chefão II', \n",
        "  '12 Homens e uma Sentença', \n",
        "  'A Lista de Schindler',\n",
        "  'O Senhor dos Anéis: O Retorno do Rei',\n",
        "  'Pulp Fiction: Tempo de Violência',\n",
        "  'O Senhor dos Anéis: A Sociedade do Anel',\n",
        "  'Três Homens em Conflito',\n",
        "]\n",
        "\n",
        "print(filmes)"
      ],
      "execution_count": 16,
      "outputs": [
        {
          "output_type": "stream",
          "name": "stdout",
          "text": [
            "['Um Sonho de Liberdade', 'O Poderoso Chefão', 'Batman: O Cavaleiro das Trevas', 'O Poderoso Chefão II', '12 Homens e uma Sentença', 'A Lista de Schindler', 'O Senhor dos Anéis: O Retorno do Rei', 'Pulp Fiction: Tempo de Violência', 'O Senhor dos Anéis: A Sociedade do Anel', 'Três Homens em Conflito']\n"
          ]
        }
      ]
    },
    {
      "cell_type": "markdown",
      "metadata": {
        "id": "KI9zQRT2xa7m"
      },
      "source": [
        "Simule a movimentação do *ranking*. Utilize os métodos `insert` e `pop` para trocar a posição do primeiro e do segundo filme da lista. Imprima o resultado.\n",
        "\n"
      ]
    },
    {
      "cell_type": "code",
      "metadata": {
        "id": "zX3mA3_GzrXH",
        "colab": {
          "base_uri": "https://localhost:8080/"
        },
        "outputId": "8abba664-c8ab-4ae7-d5df-571cb537a7a5"
      },
      "source": [
        "filmes = [\n",
        "  'Um Sonho de Liberdade', \n",
        "  'O Poderoso Chefão', \n",
        "  'Batman: O Cavaleiro das Trevas', \n",
        "  'O Poderoso Chefão II', \n",
        "  '12 Homens e uma Sentença', \n",
        "  'A Lista de Schindler',\n",
        "  'O Senhor dos Anéis: O Retorno do Rei',\n",
        "  'Pulp Fiction: Tempo de Violência',\n",
        "  'O Senhor dos Anéis: A Sociedade do Anel',\n",
        "  'Três Homens em Conflito',\n",
        "]\n",
        "\n",
        "poderoso_chefao = filmes.pop(1)\n",
        "filmes.insert(0, poderoso_chefao)\n",
        "print(filmes)"
      ],
      "execution_count": 12,
      "outputs": [
        {
          "output_type": "stream",
          "name": "stdout",
          "text": [
            "['O Poderoso Chefão', 'Um Sonho de Liberdade', 'Batman: O Cavaleiro das Trevas', 'O Poderoso Chefão II', '12 Homens e uma Sentença', 'A Lista de Schindler', 'O Senhor dos Anéis: O Retorno do Rei', 'Pulp Fiction: Tempo de Violência', 'O Senhor dos Anéis: A Sociedade do Anel', 'Três Homens em Conflito']\n"
          ]
        }
      ]
    },
    {
      "cell_type": "markdown",
      "metadata": {
        "id": "zMN1Q3jdwoJm"
      },
      "source": [
        "---"
      ]
    },
    {
      "cell_type": "markdown",
      "metadata": {
        "id": "lxa5L6uF0ZJE"
      },
      "source": [
        "## 2\\. Conjuntos"
      ]
    },
    {
      "cell_type": "markdown",
      "metadata": {
        "id": "9JahS2Kj0d5u"
      },
      "source": [
        "Aconteceu um erro no seu *ranking*. Simule a duplicação dos três últimos filmes da lista. Imprima o resultado."
      ]
    },
    {
      "cell_type": "code",
      "metadata": {
        "id": "BnjnLBNC6PGe",
        "colab": {
          "base_uri": "https://localhost:8080/"
        },
        "outputId": "459b2cb0-46b2-4a79-84d5-0eacbf5dd7ca"
      },
      "source": [
        "filmes = [\n",
        "  'Um Sonho de Liberdade', \n",
        "  'O Poderoso Chefão', \n",
        "  'Batman: O Cavaleiro das Trevas', \n",
        "  'O Poderoso Chefão II', \n",
        "  '12 Homens e uma Sentença', \n",
        "  'A Lista de Schindler',\n",
        "  'O Senhor dos Anéis: O Retorno do Rei',\n",
        "  'Pulp Fiction: Tempo de Violência',\n",
        "  'O Senhor dos Anéis: A Sociedade do Anel',\n",
        "  'Três Homens em Conflito',\n",
        "]\n",
        "filmes.insert(len(filmes),'Pulp Fiction: Tempo de Violência')\n",
        "filmes.insert(len(filmes),'O Senhor dos Anéis: A Sociedade do Anel')\n",
        "filmes.insert(len(filmes),'Três Homens em Conflito')\n",
        "\n",
        "print(filmes)"
      ],
      "execution_count": 13,
      "outputs": [
        {
          "output_type": "stream",
          "name": "stdout",
          "text": [
            "['Um Sonho de Liberdade', 'O Poderoso Chefão', 'Batman: O Cavaleiro das Trevas', 'O Poderoso Chefão II', '12 Homens e uma Sentença', 'A Lista de Schindler', 'O Senhor dos Anéis: O Retorno do Rei', 'Pulp Fiction: Tempo de Violência', 'O Senhor dos Anéis: A Sociedade do Anel', 'Três Homens em Conflito', 'Pulp Fiction: Tempo de Violência', 'O Senhor dos Anéis: A Sociedade do Anel', 'Três Homens em Conflito']\n"
          ]
        }
      ]
    },
    {
      "cell_type": "markdown",
      "metadata": {
        "id": "suxTfCJB6ZiX"
      },
      "source": [
        "Utiliza a conversão `set` e `list` para remover os valores duplicados. Imprima o resultado. "
      ]
    },
    {
      "cell_type": "code",
      "metadata": {
        "id": "ZvUGN-0n6joM",
        "colab": {
          "base_uri": "https://localhost:8080/"
        },
        "outputId": "9c329ed9-be1a-4de9-d0e7-9c1b35c3375a"
      },
      "source": [
        "filmes = [\n",
        "  'Um Sonho de Liberdade', \n",
        "  'O Poderoso Chefão', \n",
        "  'Batman: O Cavaleiro das Trevas', \n",
        "  'O Poderoso Chefão II', \n",
        "  '12 Homens e uma Sentença', \n",
        "  'A Lista de Schindler', \n",
        "  'O Senhor dos Anéis: O Retorno do Rei', \n",
        "  'Pulp Fiction: Tempo de Violência', \n",
        "  'O Senhor dos Anéis: A Sociedade do Anel', \n",
        "  'Três Homens em Conflito', \n",
        "  'Pulp Fiction: Tempo de Violência', \n",
        "  'O Senhor dos Anéis: A Sociedade do Anel', \n",
        "  'Três Homens em Conflito'\n",
        "]\n",
        "\n",
        "\n",
        "print(list(set(filmes)))"
      ],
      "execution_count": 15,
      "outputs": [
        {
          "output_type": "stream",
          "name": "stdout",
          "text": [
            "['Pulp Fiction: Tempo de Violência', 'O Poderoso Chefão', 'O Senhor dos Anéis: O Retorno do Rei', 'Três Homens em Conflito', '12 Homens e uma Sentença', 'O Senhor dos Anéis: A Sociedade do Anel', 'Um Sonho de Liberdade', 'O Poderoso Chefão II', 'A Lista de Schindler', 'Batman: O Cavaleiro das Trevas']\n"
          ]
        }
      ]
    },
    {
      "cell_type": "markdown",
      "metadata": {
        "id": "ShkK35eQ6pAM"
      },
      "source": [
        "---"
      ]
    },
    {
      "cell_type": "markdown",
      "metadata": {
        "id": "EL_FzmxL6rTv"
      },
      "source": [
        "## 3\\. Dicionários"
      ]
    },
    {
      "cell_type": "markdown",
      "metadata": {
        "id": "i8l0gFqRCpfT"
      },
      "source": [
        "Repita os exercícios da parte 1 (listas). Os elementos da lista `filmes` devem ser dicionários no seguinte formato: `{'nome': <nome-do-filme>, 'ano': <ano do filme>}, 'sinopse': <sinopse do filme>}`. "
      ]
    },
    {
      "cell_type": "code",
      "source": [
        "filmes = {\n",
        "    'F1' : {\n",
        "        'nome': 'Um Sonho de Liberdade',\n",
        "        'ano': 1994,\n",
        "        'sinopse': 'Dois homens presos se reúnem ao longo de vários anos...'\n",
        "    },\n",
        "    'F2' : {\n",
        "        'nome': 'O Poderoso Chefão',\n",
        "        'ano': 1972,\n",
        "        'sinopse': 'O patriarca idoso de uma dinastia do crime organizado...'\n",
        "    },\n",
        "    'F3' : {\n",
        "        'nome': 'Batman: O Cavaleiro das Trevas',\n",
        "        'ano': 2008,\n",
        "        'sinopse': 'Quando a ameaça conhecida como O Coringa surge...'\n",
        "    },\n",
        "    'F4' : {\n",
        "        'nome': 'O Poderoso Chefão II',\n",
        "        'ano': 1974,\n",
        "        'sinopse': 'Em 1950, Michael Corleone, agora à frente da família...'\n",
        "    },\n",
        "    'F5' : {\n",
        "        'nome': '12 Homens e uma Sentença',\n",
        "        'ano': 1957,\n",
        "        'sinopse': 'Um jurado que se aposenta tenta evitar um erro judicial...'\n",
        "    },\n",
        "    'F6' : {\n",
        "        'nome': 'A Lista de Schindler',\n",
        "        'ano': 1993,\n",
        "        'sinopse': 'Depois de testemunhar a perseguição dos judaicos...'\n",
        "    },\n",
        "    'F7' : {\n",
        "        'nome': 'O Senhor dos Anéis: O Retorno do Rei',\n",
        "        'ano': 2003,\n",
        "        'sinopse': 'Gandalf e Aragorn lideram o Mundo dos Homens...'\n",
        "    },\n",
        "    'F8' : {\n",
        "        'nome': 'Pulp Fiction: Tempo de Violência',\n",
        "        'ano': 1994,\n",
        "        'sinopse': 'As vidas de dois assassinos da máfia, um boxeador...'\n",
        "    },\n",
        "    'F9' : {\n",
        "        'nome': 'O Senhor dos Anéis: A Sociedade do Anel',\n",
        "        'ano': 2001,\n",
        "        'sinopse': 'Um manso hobbit do Condado e oito companheiros partem...'\n",
        "    },\n",
        "    'F10' : {\n",
        "        'nome': 'Três Homens em Conflito',\n",
        "        'ano': 1966,\n",
        "        'sinopse': 'Um impostor se junta com dois homens para encontrar...'\n",
        "    },\n",
        "}\n",
        "\n",
        "print(filmes)"
      ],
      "metadata": {
        "colab": {
          "base_uri": "https://localhost:8080/"
        },
        "id": "kN1laUU7_6Wv",
        "outputId": "acb1512b-77db-4d9d-9d0c-ea920da79d38"
      },
      "execution_count": 18,
      "outputs": [
        {
          "output_type": "stream",
          "name": "stdout",
          "text": [
            "{'F1': {'nome': 'Um Sonho de Liberdade', 'ano': 1994, 'sinopse': 'Dois homens presos se reúnem ao longo de vários anos...'}, 'F2': {'nome': 'O Poderoso Chefão', 'ano': 1972, 'sinopse': 'O patriarca idoso de uma dinastia do crime organizado...'}, 'F3': {'nome': 'Batman: O Cavaleiro das Trevas', 'ano': 2008, 'sinopse': 'Quando a ameaça conhecida como O Coringa surge...'}, 'F4': {'nome': 'O Poderoso Chefão II', 'ano': 1974, 'sinopse': 'Em 1950, Michael Corleone, agora à frente da família...'}, 'F5': {'nome': '12 Homens e uma Sentença', 'ano': 1957, 'sinopse': 'Um jurado que se aposenta tenta evitar um erro judicial...'}, 'F6': {'nome': 'A Lista de Schindler', 'ano': 1993, 'sinopse': 'Depois de testemunhar a perseguição dos judaicos...'}, 'F7': {'nome': 'O Senhor dos Anéis: O Retorno do Rei', 'ano': 2003, 'sinopse': 'Gandalf e Aragorn lideram o Mundo dos Homens...'}, 'F8': {'nome': 'Pulp Fiction: Tempo de Violência', 'ano': 1994, 'sinopse': 'As vidas de dois assassinos da máfia, um boxeador...'}, 'F9': {'nome': 'O Senhor dos Anéis: A Sociedade do Anel', 'ano': 2001, 'sinopse': 'Um manso hobbit do Condado e oito companheiros partem...'}, 'F10': {'nome': 'Três Homens em Conflito', 'ano': 1966, 'sinopse': 'Um impostor se junta com dois homens para encontrar...'}}\n"
          ]
        }
      ]
    }
  ]
}